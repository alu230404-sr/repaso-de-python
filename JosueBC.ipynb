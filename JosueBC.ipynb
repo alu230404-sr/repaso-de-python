{
  "nbformat": 4,
  "nbformat_minor": 0,
  "metadata": {
    "colab": {
      "provenance": [],
      "authorship_tag": "ABX9TyOZafszDcJQKEEtlPosd0/N",
      "include_colab_link": true
    },
    "kernelspec": {
      "name": "python3",
      "display_name": "Python 3"
    },
    "language_info": {
      "name": "python"
    }
  },
  "cells": [
    {
      "cell_type": "markdown",
      "metadata": {
        "id": "view-in-github",
        "colab_type": "text"
      },
      "source": [
        "<a href=\"https://colab.research.google.com/github/alu230404-sr/repaso-de-python/blob/main/JosueBC.ipynb\" target=\"_parent\"><img src=\"https://colab.research.google.com/assets/colab-badge.svg\" alt=\"Open In Colab\"/></a>"
      ]
    },
    {
      "cell_type": "markdown",
      "source": [
        "realizar un programa que permita capturar 2 numeros enteros e imprima la suma, resta, multiplicacion y division entre ellos"
      ],
      "metadata": {
        "id": "ZdO_tMjrC4O9"
      }
    },
    {
      "cell_type": "code",
      "source": [
        "num1= int(input(\"ingresa el primer numero:\"))\n",
        "num2= int(input(\"ingresa el segundo numero:\"))\n",
        "s=num1+num2\n",
        "print(\"la suma de los dos numeros es:\",s)\n",
        "r=num1-num2\n",
        "print(\"la resta de los numeros es:\",r)\n",
        "m=num1*num2\n",
        "print(\"la multiplicacion de los numeros es:\",m)\n",
        "d=num1/num2\n",
        "print(\"la division de los numeros es:\",d)\n",
        "\n",
        "\n",
        "\n"
      ],
      "metadata": {
        "colab": {
          "base_uri": "https://localhost:8080/"
        },
        "id": "UZknoiI-CpcQ",
        "outputId": "9052de02-4f4b-42be-e72e-eafb006f3364"
      },
      "execution_count": 18,
      "outputs": [
        {
          "output_type": "stream",
          "name": "stdout",
          "text": [
            "ingresa el primer numero:7\n",
            "ingresa el segundo numero:3\n",
            "la suma de los dos numeros es: 10\n",
            "la resta de los numeros es: 4\n",
            "la multiplicacion de los numeros es: 21\n",
            "la division de los numeros es: 2.3333333333333335\n"
          ]
        }
      ]
    },
    {
      "cell_type": "markdown",
      "source": [],
      "metadata": {
        "id": "ntBeqmdZCpB_"
      }
    },
    {
      "cell_type": "code",
      "execution_count": 15,
      "metadata": {
        "colab": {
          "base_uri": "https://localhost:8080/"
        },
        "id": "p2PgwKlM-5Jh",
        "outputId": "9bdaa6ec-b83e-42f4-b373-ea563289ee16"
      },
      "outputs": [
        {
          "output_type": "stream",
          "name": "stdout",
          "text": [
            "ingresa tu nombre:josue\n",
            "josue Bienvenido al programa\n"
          ]
        }
      ],
      "source": [
        "\n",
        "nombre = input(\"ingresa tu nombre:\")\n",
        "print(nombre,\"Bienvenido al programa\")\n",
        "\n"
      ]
    },
    {
      "cell_type": "code",
      "source": [],
      "metadata": {
        "id": "YZA3U1X1_etS"
      },
      "execution_count": null,
      "outputs": []
    },
    {
      "cell_type": "markdown",
      "source": [
        "Relaizar un programa que permita capturar tu nombre y lo imprima seguido de una bienvenida"
      ],
      "metadata": {
        "id": "Tct7g42S_OK9"
      }
    }
  ]
}