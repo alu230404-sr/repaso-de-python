{
  "nbformat": 4,
  "nbformat_minor": 0,
  "metadata": {
    "colab": {
      "provenance": [],
      "authorship_tag": "ABX9TyPdbC/yKU9AUoFp6UrHByGs",
      "include_colab_link": true
    },
    "kernelspec": {
      "name": "python3",
      "display_name": "Python 3"
    },
    "language_info": {
      "name": "python"
    }
  },
  "cells": [
    {
      "cell_type": "markdown",
      "metadata": {
        "id": "view-in-github",
        "colab_type": "text"
      },
      "source": [
        "<a href=\"https://colab.research.google.com/github/alu230404-sr/repaso-de-python/blob/main/JBC.ipynb\" target=\"_parent\"><img src=\"https://colab.research.google.com/assets/colab-badge.svg\" alt=\"Open In Colab\"/></a>"
      ]
    },
    {
      "cell_type": "code",
      "source": [
        "dias = [\"lunes\", \"martes\", \"miercoles\", \"jueves\", \"viernes\", \"sabado\", \"domingo\"]\n",
        "for dia in dias:\n",
        "  print(dia)"
      ],
      "metadata": {
        "colab": {
          "base_uri": "https://localhost:8080/"
        },
        "id": "lxp9sw8KCt0V",
        "outputId": "27d9606b-ae8b-4c2e-cad2-ff21b2343bba"
      },
      "execution_count": 11,
      "outputs": [
        {
          "output_type": "stream",
          "name": "stdout",
          "text": [
            "lunes\n",
            "martes\n",
            "miercoles\n",
            "jueves\n",
            "viernes\n",
            "sabado\n",
            "domingo\n"
          ]
        }
      ]
    },
    {
      "cell_type": "markdown",
      "source": [
        " Realizar un programa en python que permita imprimir los 7 días de la semana."
      ],
      "metadata": {
        "id": "eZz3-cOlCoWO"
      }
    },
    {
      "cell_type": "code",
      "source": [
        "nombre = (input(\"ingresa tu nombre:\"))\n",
        "print(\"el nombre tiene:\",len(nombre),\"caracteres\")"
      ],
      "metadata": {
        "colab": {
          "base_uri": "https://localhost:8080/"
        },
        "id": "jykcPevaAw-B",
        "outputId": "7e9ce0e4-a64c-4edd-e418-0da0a56ebe37"
      },
      "execution_count": 7,
      "outputs": [
        {
          "output_type": "stream",
          "name": "stdout",
          "text": [
            "ingresa tu nombre:josue\n",
            "el nombre tiene: 5 caracteres\n"
          ]
        }
      ]
    },
    {
      "cell_type": "markdown",
      "source": [
        "realizar un programa en python mediante el cual calcules el total de caracteres que tiene un nombre captutrado desde el teclado"
      ],
      "metadata": {
        "id": "7XI7ArrwAgkC"
      }
    },
    {
      "cell_type": "code",
      "execution_count": 1,
      "metadata": {
        "colab": {
          "base_uri": "https://localhost:8080/"
        },
        "id": "Mntk85Y7-XF8",
        "outputId": "2688605a-8156-4468-9825-a95aaf31ba23"
      },
      "outputs": [
        {
          "output_type": "stream",
          "name": "stdout",
          "text": [
            "ingresa el primer numero:4\n",
            "ingresa el segundo numero:6\n",
            "ingresa el tercer numero:5\n",
            "el numro mayor es: 6\n"
          ]
        }
      ],
      "source": [
        "num1 = int(input(\"ingresa el primer numero:\"))\n",
        "num2 = int(input(\"ingresa el segundo numero:\"))\n",
        "num3 = int(input(\"ingresa el tercer numero:\"))\n",
        "\n",
        "if num1 >=num2 and num1 >=num3:\n",
        "  mayor=num1\n",
        "if num2 >=num3 and num2 >=num3:\n",
        "  mayor=num2\n",
        "else:\n",
        "  mayor=num3\n",
        "print(\"el numro mayor es:\",mayor)\n",
        "\n"
      ]
    },
    {
      "cell_type": "markdown",
      "source": [
        "realiza un codigo que permita insertar 3 numeros y diga cual es el mayor"
      ],
      "metadata": {
        "id": "ymrDQoqg_NXF"
      }
    }
  ]
}